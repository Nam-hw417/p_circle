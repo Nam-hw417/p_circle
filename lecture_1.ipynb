{
  "nbformat": 4,
  "nbformat_minor": 0,
  "metadata": {
    "colab": {
      "provenance": []
    },
    "kernelspec": {
      "name": "python3",
      "display_name": "Python 3"
    },
    "language_info": {
      "name": "python"
    }
  },
  "cells": [
    {
      "cell_type": "code",
      "execution_count": 1,
      "metadata": {
        "colab": {
          "base_uri": "https://localhost:8080/"
        },
        "id": "6Jyr2cufO684",
        "outputId": "783d7d91-aca2-4293-d1b2-b277d039c4c2"
      },
      "outputs": [
        {
          "output_type": "stream",
          "name": "stdout",
          "text": [
            "Accuracy: 1.0\n"
          ]
        }
      ],
      "source": [
        "from sklearn.datasets import load_iris\n",
        "from sklearn.tree import DecisionTreeClassifier\n",
        "from sklearn.model_selection import train_test_split\n",
        "from sklearn.metrics import accuracy_score\n",
        "\n",
        "# 붓꽃 데이터셋 로드\n",
        "iris = load_iris()\n",
        "\n",
        "# 입력 데이터와 레이블 분리\n",
        "X = iris.data\n",
        "y = iris.target\n",
        "\n",
        "# 학습 데이터와 테스트 데이터 분리\n",
        "X_train, X_test, y_train, y_test = train_test_split(X, y, test_size=0.2, random_state=42)\n",
        "\n",
        "# Decision Tree 분류기 객체 생성\n",
        "dt_clf = DecisionTreeClassifier(random_state=42)\n",
        "\n",
        "# 학습 데이터를 사용하여 Decision Tree 분류기 학습\n",
        "dt_clf.fit(X_train, y_train)\n",
        "\n",
        "# 테스트 데이터를 사용하여 분류기 평가\n",
        "y_pred = dt_clf.predict(X_test)\n",
        "accuracy = accuracy_score(y_test, y_pred)\n",
        "\n",
        "print(\"Accuracy:\", accuracy)\n"
      ]
    },
    {
      "cell_type": "code",
      "source": [],
      "metadata": {
        "id": "O3vEMUyZPAFE"
      },
      "execution_count": null,
      "outputs": []
    }
  ]
}